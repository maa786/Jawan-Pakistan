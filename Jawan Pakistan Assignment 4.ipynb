{
 "cells": [
  {
   "cell_type": "markdown",
   "metadata": {},
   "source": [
    "# 1 Make a calculator using Python with addition , subtraction ,multiplication ,division and power."
   ]
  },
  {
   "cell_type": "code",
   "execution_count": 1,
   "metadata": {},
   "outputs": [
    {
     "name": "stdout",
     "output_type": "stream",
     "text": [
      "Enter first number: 6\n",
      "enter an operator: +\n",
      "enter second number: 7\n",
      "The sum of two number is:  13\n"
     ]
    }
   ],
   "source": [
    "num1 = int(input(\"Enter first number: \"))\n",
    "operator = input(\"enter an operator: \")\n",
    "num2 = int(input(\"enter second number: \"))\n",
    "if operator == \"+\":\n",
    "    print(\"The sum of two number is: \",num1 + num2)\n",
    "elif operator == \"-\":\n",
    "    print(\"The subtratiction of two number is: \",num1 - num2)\n",
    "elif operator == \"*\":\n",
    "    print(\"The multiplication of two number is: \",num1 * num2)\n",
    "elif operator == \"/\":\n",
    "    print(\"The division of num number is: \",num1 / num2)\n",
    "elif operator == \"//\":\n",
    "    print(\"The exact division of two number is: \",num1 //num2)\n",
    "elif operator == \"%\":\n",
    "    print(\"The remainder is showing: \",num1 % num2)\n",
    "elif operator == '**':\n",
    "    print(\"Power of \",num1, \" is \", num1 ** num2)\n",
    "else:\n",
    "    print(\"not an inter or wrong keyword\")"
   ]
  },
  {
   "cell_type": "code",
   "execution_count": null,
   "metadata": {},
   "outputs": [],
   "source": []
  },
  {
   "cell_type": "markdown",
   "metadata": {},
   "source": [
    "# 2. Write a program to check if there is any numeric value in list using for loop."
   ]
  },
  {
   "cell_type": "code",
   "execution_count": 2,
   "metadata": {},
   "outputs": [
    {
     "name": "stdout",
     "output_type": "stream",
     "text": [
      "7.9 this is the numeric value of the list\n",
      "232 this is the numeric value of the list\n",
      "932 this is the numeric value of the list\n"
     ]
    }
   ],
   "source": [
    "lst = [\"Arham\",\"Adeel\",\"Pakistan\",True,\"2\",7.9,232,\"Zindabad\",932] \n",
    "for i in lst:\n",
    "    if type(i) == int:\n",
    "        print(i,\"this is the numeric value of the list\")\n",
    "    elif type(i) == float:\n",
    "        print(i,\"this is the numeric value of the list\")"
   ]
  },
  {
   "cell_type": "code",
   "execution_count": null,
   "metadata": {},
   "outputs": [],
   "source": []
  },
  {
   "cell_type": "markdown",
   "metadata": {},
   "source": [
    "# 3. Write a Python script to add a key to a dictionary."
   ]
  },
  {
   "cell_type": "code",
   "execution_count": 3,
   "metadata": {},
   "outputs": [
    {
     "name": "stdout",
     "output_type": "stream",
     "text": [
      "Enter Key name\n",
      "Enter Value Arham\n",
      "{'name': 'Arham'}\n"
     ]
    }
   ],
   "source": [
    "dic = {}\n",
    "key_inp = input(\"Enter Key \")\n",
    "value_inp = input(\"Enter Value \")\n",
    "dic.update({key_inp:value_inp})\n",
    "\n",
    "print(dic)"
   ]
  },
  {
   "cell_type": "code",
   "execution_count": null,
   "metadata": {},
   "outputs": [],
   "source": []
  },
  {
   "cell_type": "markdown",
   "metadata": {},
   "source": [
    "# 4. Write a Python program to sum all the numeric items in a dictionary."
   ]
  },
  {
   "cell_type": "code",
   "execution_count": 4,
   "metadata": {},
   "outputs": [
    {
     "name": "stdout",
     "output_type": "stream",
     "text": [
      "Sum of all numeric items in a dictionary is  76\n"
     ]
    }
   ],
   "source": [
    "dic = {\n",
    "    'num1' : 35,\n",
    "    'num2' : 5,\n",
    "    'string':'Arham',\n",
    "    'char':'b',\n",
    "    'num3' : 34,\n",
    "    'num4':2,\n",
    "}\n",
    "\n",
    "sum = 0\n",
    "\n",
    "for i in dic.values():\n",
    "    if type(i) == int:\n",
    "        sum += i\n",
    "\n",
    "print(\"Sum of all numeric items in a dictionary is \" , sum)"
   ]
  },
  {
   "cell_type": "code",
   "execution_count": null,
   "metadata": {},
   "outputs": [],
   "source": []
  },
  {
   "cell_type": "markdown",
   "metadata": {},
   "source": [
    "# 5. Write a program to identify duplicate values from list."
   ]
  },
  {
   "cell_type": "code",
   "execution_count": 5,
   "metadata": {},
   "outputs": [
    {
     "name": "stdout",
     "output_type": "stream",
     "text": [
      "Duplicate item in this list are [1, 31, 5, 3]\n"
     ]
    }
   ],
   "source": [
    "arr = [1,2,31,45,5,3,31,1,5,66,3]\n",
    "list_range = len(arr)\n",
    "duplicate = []\n",
    "for i in range (list_range):\n",
    "    a = i + 1\n",
    "    for b in range(a, list_range):\n",
    "        if arr[i] == arr[b] and arr[i] not in duplicate:\n",
    "            duplicate.append(arr[i])\n",
    "print(\"Duplicate item in this list are\" , duplicate)"
   ]
  },
  {
   "cell_type": "code",
   "execution_count": null,
   "metadata": {},
   "outputs": [],
   "source": []
  },
  {
   "cell_type": "markdown",
   "metadata": {},
   "source": [
    "# 6. Write a Python script to check if a given key already exists in a dictionary"
   ]
  },
  {
   "cell_type": "code",
   "execution_count": 6,
   "metadata": {},
   "outputs": [
    {
     "name": "stdout",
     "output_type": "stream",
     "text": [
      "Enter Key Name Check if exist or not num1\n",
      "Given Key exist\n"
     ]
    }
   ],
   "source": [
    "dic = {\n",
    "    'num1' : 9,\n",
    "    'num2' : 33,\n",
    "    'string':'Arham',\n",
    "    'char':'b',\n",
    "    'num3' : 5,\n",
    "    'num4':1,\n",
    "}\n",
    "check_key = input(\"Enter Key Name Check if exist or not \")\n",
    "flag = False\n",
    "for i in dic.keys():\n",
    "    if i == check_key:\n",
    "        flag = True\n",
    "        break\n",
    "\n",
    "if flag:\n",
    "    print(\"Given Key exist\")\n",
    "else:\n",
    "    print(\"Given Key dose not exist\")"
   ]
  },
  {
   "cell_type": "code",
   "execution_count": null,
   "metadata": {},
   "outputs": [],
   "source": []
  }
 ],
 "metadata": {
  "kernelspec": {
   "display_name": "Python 3",
   "language": "python",
   "name": "python3"
  },
  "language_info": {
   "codemirror_mode": {
    "name": "ipython",
    "version": 3
   },
   "file_extension": ".py",
   "mimetype": "text/x-python",
   "name": "python",
   "nbconvert_exporter": "python",
   "pygments_lexer": "ipython3",
   "version": "3.7.4"
  }
 },
 "nbformat": 4,
 "nbformat_minor": 2
}
